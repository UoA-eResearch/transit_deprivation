{
 "cells": [
  {
   "cell_type": "markdown",
   "metadata": {},
   "source": [
    "### Data Loading"
   ]
  },
  {
   "cell_type": "code",
   "execution_count": null,
   "metadata": {},
   "outputs": [],
   "source": [
    "import json\n",
    "import pydeck\n",
    "import pickle\n",
    "import numpy as np\n",
    "import plotly.express as px\n",
    "import matplotlib.pyplot as plt\n",
    "import pandas as pd\n",
    "import os\n",
    "import shapefile"
   ]
  },
  {
   "cell_type": "code",
   "execution_count": null,
   "metadata": {},
   "outputs": [],
   "source": [
    "# load location index\n",
    "with open(\"../data/akl_loc_idx.pkl\", 'rb') as f:\n",
    "    loc_idx = pickle.load(f) # datazone to point index\n",
    "    idx_loc = {v:k for k, v in loc_idx.items()} # point index to datazone    \n",
    "    print(f\" -- loaded location index with dimension {len(loc_idx)}\")\n",
    "\n",
    "# load time index\n",
    "with open(\"../data/akl_t_idx.pkl\", 'rb') as f:\n",
    "    t_idx = pickle.load(f) # datetime to time index\n",
    "    idx_t = {v:k for k, v in t_idx.items()} # time index to datetime\n",
    "    print(f\" -- loaded time index with dimension {len(t_idx)}\")\n",
    "    \n",
    "# load precomputed odt\n",
    "with open(\"../data/akl_odt.npy\", 'rb') as f:\n",
    "    odt = np.load(f)\n",
    "    print(f\" -- loaded odt cube with dimensions {odt.shape}\")"
   ]
  },
  {
   "cell_type": "code",
   "execution_count": null,
   "metadata": {},
   "outputs": [],
   "source": [
    "# show odt time rane\n",
    "times = list(t_idx.keys())\n",
    "print(min(times), \"-\", max(times))"
   ]
  },
  {
   "cell_type": "code",
   "execution_count": null,
   "metadata": {},
   "outputs": [],
   "source": [
    "# load polygon data\n",
    "with open(\"../data/akl/akl_polygons_id.geojson\", 'r') as f:\n",
    "    polys = json.load(f)"
   ]
  },
  {
   "cell_type": "code",
   "execution_count": null,
   "metadata": {},
   "outputs": [],
   "source": [
    "# load shapefile of points (data zone population centeroids)\n",
    "sf_path = \"../data/akl_points.shp\"\n",
    "sf = shapefile.Reader(sf_path)\n",
    "records = sf.records()\n",
    "coords = {}\n",
    "for i, r in enumerate(records):    \n",
    "    coords[r[0]] = sf.shape(i).points[0]\n",
    "sf.close()"
   ]
  },
  {
   "cell_type": "code",
   "execution_count": null,
   "metadata": {},
   "outputs": [],
   "source": [
    "# load IMD\n",
    "imd = pd.read_csv(\"../data/akl_imd.csv\", index_col=\"DZ2018\")\n",
    "imd.head()"
   ]
  },
  {
   "cell_type": "code",
   "execution_count": null,
   "metadata": {},
   "outputs": [],
   "source": [
    "# load vdr\n",
    "vdr = pd.read_csv(\"../data/vdr_values.csv\", index_col=\"lzuid\").dropna()\n",
    "vdr.index = vdr.index.astype(np.int32)\n",
    "#vdr = pd.read_csv(\"../data/vdr_values.csv\").dropna()\n",
    "\n",
    "# replace 'S' suppressed values with 0\n",
    "# vdr[\"count_vdr\"] = vdr[\"count_vdr\"].replace('S', 0)\n",
    "# vdr[\"pop\"] = vdr[\"pop\"].replace('S', 0)\n",
    "\n",
    "#print(vdr[vdr.count_vdr == 'S'].shape[0]/vdr.shape[0])\n",
    "\n",
    "# drop rows with suppressed values\n",
    "#vdr = vdr.drop(vdr[vdr.count_vdr == 'S'].index)\n",
    "\n",
    "# filter for valid counts\n",
    "vdr = vdr[vdr.count_vdr != 'S']\n",
    "\n",
    "# set types\n",
    "#vdr = vdr.astype({\"lzuid\":np.int32, \"mpoMaoriPacific\":str, \"ageband\":str, \"pop\":np.int32, \"count_vdr\":np.int32})\n",
    "vdr = vdr.astype({\"mpoMaoriPacific\":str, \"ageband\":str, \"pop\":np.int32, \"count_vdr\":np.int32})\n",
    "vdr.head()"
   ]
  },
  {
   "cell_type": "code",
   "execution_count": null,
   "metadata": {},
   "outputs": [],
   "source": [
    "# clinics\n",
    "# these are currently manuallys set to the nearest data zone location (population centeroid)\n",
    "clinics = pd.read_csv(\"../data/akl_clinics.csv\", index_col=\"DZ2018\")\n",
    "clinics.head()"
   ]
  },
  {
   "cell_type": "markdown",
   "metadata": {},
   "source": [
    "### Some basic plotting with pydeck\n",
    "\n",
    "Can use this to select a location ID"
   ]
  },
  {
   "cell_type": "code",
   "execution_count": null,
   "metadata": {},
   "outputs": [],
   "source": [
    "# deckgl show polygons and location ids\n",
    "view_state = pydeck.ViewState(\n",
    "    longitude=174.7633,\n",
    "    latitude=-36.8485,\n",
    "    zoom=11,    \n",
    "    max_zoom=16,\n",
    "    pitch=0,\n",
    "    bearing=0\n",
    ")\n",
    "\n",
    "# default view\n",
    "geojson = pydeck.Layer(\n",
    "    \"GeoJsonLayer\",\n",
    "    polys, # needs to be wgs84\n",
    "    opacity=0.2,\n",
    "    stroked=True,\n",
    "    line_width_min_pixels=1,\n",
    "    filled=True,           \n",
    "    pickable=True,\n",
    "    auto_highlight=True,\n",
    "    get_fill_color=[128, 128, 128],\n",
    "    get_line_color=[255, 255, 255],    \n",
    ")\n",
    "\n",
    "r = pydeck.Deck(\n",
    "    layers=[geojson], \n",
    "    initial_view_state=view_state, \n",
    "    map_style='mapbox://styles/mapbox/light-v9',   \n",
    "    tooltip = {\n",
    "        \"text\": \"Location: {id}\"\n",
    "    }\n",
    ")\n",
    "#r.to_html(\"geojson_layer.html\", iframe_width=\"100%\")\n",
    "r.show()"
   ]
  },
  {
   "cell_type": "markdown",
   "metadata": {},
   "source": [
    "### One source to all destinations with one-way journey threshold"
   ]
  },
  {
   "cell_type": "code",
   "execution_count": null,
   "metadata": {},
   "outputs": [],
   "source": [
    "loc = 7600522 # seaview terrace, mt albert\n",
    "lon, lat = coords[loc]\n",
    "origin = loc_idx[loc] # get odt index from location id\n",
    "dt = odt[origin, :, :] # get destination-time matrix for this origin\n",
    "print(dt.shape)"
   ]
  },
  {
   "cell_type": "code",
   "execution_count": null,
   "metadata": {},
   "outputs": [],
   "source": [
    "# view dt matrix\n",
    "fig, ax = plt.subplots(figsize=(15, 15))\n",
    "ax.imshow(np.transpose(dt))\n",
    "ax.set_xlabel(\"location index\")\n",
    "ax.set_ylabel(\"time index\")"
   ]
  },
  {
   "cell_type": "code",
   "execution_count": null,
   "metadata": {},
   "outputs": [],
   "source": [
    "# compute mean, std travel time\n",
    "mean_tt = np.nanmean(dt, axis=1).reshape(-1, 1)\n",
    "std_tt = np.nanstd(dt, axis=1).reshape(-1, 1)"
   ]
  },
  {
   "cell_type": "code",
   "execution_count": null,
   "metadata": {},
   "outputs": [],
   "source": [
    "# create dataframe\n",
    "ids = np.array(list(idx_loc.values())).reshape(-1, 1)\n",
    "d = np.concatenate((ids, mean_tt, std_tt), axis=1)\n",
    "df = pd.DataFrame(d, columns=[\"id\", \"mean_tt\", \"std_tt\"])\n",
    "df = df.astype({'id': 'int32'})\n",
    "df = df.dropna()\n",
    "\n",
    "# join with imd\n",
    "df = df.join(imd, on=\"id\")"
   ]
  },
  {
   "cell_type": "code",
   "execution_count": null,
   "metadata": {},
   "outputs": [],
   "source": [
    "# threshold by mean_tt\n",
    "threshold = 60 # minutes\n",
    "df = df[df[\"mean_tt\"] < threshold]"
   ]
  },
  {
   "cell_type": "code",
   "execution_count": null,
   "metadata": {},
   "outputs": [],
   "source": [
    "# plot - note geojson data needs to be wgs84\n",
    "fig = px.choropleth_mapbox(\n",
    "        df,\n",
    "        geojson=polys, \n",
    "        featureidkey=\"id\",\n",
    "        locations=\"id\",        \n",
    "        center = {\"lat\": lat, \"lon\": lon},\n",
    "        mapbox_style=\"carto-positron\",\n",
    "        color=\"mean_tt\",\n",
    "        color_continuous_scale=\"Viridis\",\n",
    "        zoom=12)\n",
    "fig.update_layout(margin={\"r\":0,\"t\":0,\"l\":0,\"b\":0})\n",
    "fig.show()"
   ]
  },
  {
   "cell_type": "code",
   "execution_count": null,
   "metadata": {},
   "outputs": [],
   "source": [
    "# plot - note geojson data needs to be wgs84\n",
    "fig = px.choropleth_mapbox(\n",
    "        df,\n",
    "        geojson=polys, \n",
    "        featureidkey=\"id\",\n",
    "        locations=\"id\",        \n",
    "        center = {\"lat\": lat, \"lon\": lon},\n",
    "        mapbox_style=\"carto-positron\",\n",
    "        color=\"std_tt\",\n",
    "        color_continuous_scale=\"Viridis\",\n",
    "        opacity=1,\n",
    "        zoom=12)\n",
    "fig.update_layout(margin={\"r\":0,\"t\":0,\"l\":0,\"b\":0})\n",
    "fig.show()"
   ]
  },
  {
   "cell_type": "markdown",
   "metadata": {},
   "source": [
    "### All locations to one destination with one-way journey threshold"
   ]
  },
  {
   "cell_type": "code",
   "execution_count": null,
   "metadata": {},
   "outputs": [],
   "source": [
    "print(clinics[\"name\"])"
   ]
  },
  {
   "cell_type": "code",
   "execution_count": null,
   "metadata": {},
   "outputs": [],
   "source": [
    "# get clinic location by name\n",
    "clinic_name = \"Rehab Plus\"\n",
    "clinic_loc = clinics.index[clinics[\"name\"] == clinic_name].tolist()[0]\n",
    "print(clinic_name, clinic_loc)"
   ]
  },
  {
   "cell_type": "code",
   "execution_count": null,
   "metadata": {},
   "outputs": [],
   "source": [
    "loc = clinic_loc # or just set any location id\n",
    "lon, lat = coords[loc]\n",
    "destination = loc_idx[loc] # get odt index from location id\n",
    "ot = odt[:, destination, :] # get origin-time matrix for this destination\n",
    "print(ot.shape)"
   ]
  },
  {
   "cell_type": "code",
   "execution_count": null,
   "metadata": {},
   "outputs": [],
   "source": [
    "# view ot matrix\n",
    "fig, ax = plt.subplots(figsize=(15, 15))\n",
    "ax.imshow(np.transpose(ot))\n",
    "ax.set_xlabel(\"location index\")\n",
    "ax.set_ylabel(\"time index\")"
   ]
  },
  {
   "cell_type": "code",
   "execution_count": null,
   "metadata": {},
   "outputs": [],
   "source": [
    "# compute mean, std travel time\n",
    "mean_tt = np.nanmean(ot, axis=1).reshape(-1, 1)\n",
    "std_tt = np.nanstd(ot, axis=1).reshape(-1, 1)"
   ]
  },
  {
   "cell_type": "code",
   "execution_count": null,
   "metadata": {},
   "outputs": [],
   "source": [
    "# create dataframe\n",
    "ids = np.array(list(idx_loc.values())).reshape(-1, 1)\n",
    "d = np.concatenate((ids, mean_tt, std_tt), axis=1)\n",
    "df = pd.DataFrame(d, columns=[\"id\", \"mean_tt\", \"std_tt\"])\n",
    "df = df.astype({'id': 'int32'})\n",
    "df = df.dropna()\n",
    "\n",
    "# join with imd\n",
    "df = df.join(imd, on=\"id\")"
   ]
  },
  {
   "cell_type": "code",
   "execution_count": null,
   "metadata": {},
   "outputs": [],
   "source": [
    "# threshold by mean_tt\n",
    "threshold = 60 # minutes\n",
    "df = df[df[\"mean_tt\"] < threshold]"
   ]
  },
  {
   "cell_type": "code",
   "execution_count": null,
   "metadata": {},
   "outputs": [],
   "source": [
    "# plot - note geojson data needs to be wgs84\n",
    "fig = px.choropleth_mapbox(\n",
    "        df,\n",
    "        geojson=polys, \n",
    "        featureidkey=\"id\",\n",
    "        locations=\"id\",        \n",
    "        center = {\"lat\": lat, \"lon\": lon},\n",
    "        mapbox_style=\"carto-positron\",\n",
    "        color=\"mean_tt\",\n",
    "        color_continuous_scale=\"Viridis\",\n",
    "        zoom=12)\n",
    "fig.update_layout(margin={\"r\":0,\"t\":0,\"l\":0,\"b\":0})\n",
    "fig.show()"
   ]
  },
  {
   "cell_type": "code",
   "execution_count": null,
   "metadata": {},
   "outputs": [],
   "source": [
    "# plot - note geojson data needs to be wgs84\n",
    "fig = px.choropleth_mapbox(\n",
    "        df,\n",
    "        geojson=polys, \n",
    "        featureidkey=\"id\",\n",
    "        locations=\"id\",        \n",
    "        center = {\"lat\": lat, \"lon\": lon},\n",
    "        mapbox_style=\"carto-positron\",\n",
    "        color=\"std_tt\",\n",
    "        color_continuous_scale=\"Viridis\",\n",
    "        zoom=12)\n",
    "fig.update_layout(margin={\"r\":0,\"t\":0,\"l\":0,\"b\":0})\n",
    "fig.show()"
   ]
  },
  {
   "cell_type": "markdown",
   "metadata": {},
   "source": [
    "### Point to point travel times to investigate variablitily throughout the day"
   ]
  },
  {
   "cell_type": "code",
   "execution_count": null,
   "metadata": {},
   "outputs": [],
   "source": [
    "from_loc = 7600316 # high stdev\n",
    "to_loc = clinic_loc \n",
    "\n",
    "origin_idx = loc_idx[from_loc] # get odt index from location id\n",
    "dest_idx = loc_idx[to_loc]\n",
    "\n",
    "dt = odt[origin_idx, dest_idx, :] # get destination travel time series for this origin\n",
    "dt = pd.Series(dt, index=pd.DatetimeIndex(list(t_idx.keys())))\n",
    "print(dt.shape)"
   ]
  },
  {
   "cell_type": "code",
   "execution_count": null,
   "metadata": {},
   "outputs": [],
   "source": [
    "dt.plot(figsize=(15, 5), xlabel=\"Departure Time\", ylabel=\"ETA (minutes)\")"
   ]
  },
  {
   "cell_type": "code",
   "execution_count": null,
   "metadata": {},
   "outputs": [],
   "source": [
    "from_loc = 7600870 # low stdev\n",
    "to_loc = clinic_loc \n",
    "\n",
    "origin_idx = loc_idx[from_loc] # get odt index from location id\n",
    "dest_idx = loc_idx[to_loc]\n",
    "\n",
    "dt = odt[origin_idx, dest_idx, :] # get destination travel time series for this origin\n",
    "dt = pd.Series(dt, index=pd.DatetimeIndex(list(t_idx.keys())))\n",
    "dt.plot(figsize=(15, 5), xlabel=\"Departure Time\", ylabel=\"ETA (minutes)\")"
   ]
  },
  {
   "cell_type": "markdown",
   "metadata": {},
   "source": [
    "### Find the travel time from every location to every clinic"
   ]
  },
  {
   "cell_type": "code",
   "execution_count": null,
   "metadata": {},
   "outputs": [],
   "source": [
    "# get clinic odt indexs\n",
    "clinic_locs = clinics.index.tolist()\n",
    "clinic_idxs = [loc_idx[l] for l in clinic_locs]\n",
    "\n",
    "# get clinic odt\n",
    "odt_clinic = odt[:, clinic_idxs, :]\n",
    "print(odt_clinic.shape)"
   ]
  },
  {
   "cell_type": "code",
   "execution_count": null,
   "metadata": {},
   "outputs": [],
   "source": [
    "# compute mean, std travel time\n",
    "mean_tt = np.nanmean(odt_clinic, axis=-1)\n",
    "std_tt = np.nanstd(odt_clinic, axis=-1)\n",
    "print(mean_tt.shape)"
   ]
  },
  {
   "cell_type": "code",
   "execution_count": null,
   "metadata": {},
   "outputs": [],
   "source": [
    "# find minimum mean time and its stdev\n",
    "min_tt = np.zeros((mean_tt.shape[0], 1))\n",
    "min_tt_std = np.zeros((mean_tt.shape[0], 1))\n",
    "\n",
    "for i in range(mean_tt.shape[0]):\n",
    "    min_t = mean_tt[i, 0]\n",
    "    min_j = 0\n",
    "    \n",
    "    for j in range(1, mean_tt.shape[1]):\n",
    "        if np.isnan(min_t) and not np.isnan(mean_tt[i, j]):\n",
    "            min_t = mean_tt[i, j]\n",
    "            min_j = j\n",
    "        elif np.isnan(mean_tt[i, j]):\n",
    "            pass\n",
    "        elif mean_tt[i, j] < min_t:\n",
    "            min_t = mean_tt[i, j]\n",
    "            min_j = j\n",
    "            \n",
    "    min_tt[i] = min_t\n",
    "    min_tt_std[i] = std_tt[i, min_j]\n",
    "    #print(i, min_t, min_j, std_tt[i, min_j])        "
   ]
  },
  {
   "cell_type": "code",
   "execution_count": null,
   "metadata": {},
   "outputs": [],
   "source": [
    "plt.figure(figsize=(10, 10))\n",
    "plt.scatter(min_tt, min_tt_std)\n",
    "plt.xlabel(\"Mean travel time to nearest clinic\")\n",
    "plt.ylabel(\"stdev travel time to nearest clinic\")"
   ]
  },
  {
   "cell_type": "code",
   "execution_count": null,
   "metadata": {},
   "outputs": [],
   "source": [
    "# use log travel travel times to plot on map more easily\n",
    "log_min_tt = np.log10(min_tt)\n",
    "log_min_tt_std = np.log10(min_tt_std)\n",
    "\n",
    "# replace destinations with 0 travel time\n",
    "log_min_tt[np.isneginf(log_min_tt)] = 0\n",
    "log_min_tt_std[np.isneginf(log_min_tt_std)] = 0"
   ]
  },
  {
   "cell_type": "code",
   "execution_count": null,
   "metadata": {},
   "outputs": [],
   "source": [
    "# create dataframe\n",
    "ids = np.array(list(idx_loc.values())).reshape(-1, 1)\n",
    "d = np.concatenate((ids, min_tt, min_tt_std, log_min_tt, log_min_tt_std), axis=1)\n",
    "df = pd.DataFrame(d, columns=[\"id\", \"min_tt\", \"min_tt_std\", \"log_min_tt\", \"log_min_tt_std\"])\n",
    "df = df.astype({'id': 'int32'})\n",
    "df = df.dropna()\n",
    "\n",
    "# join with imd\n",
    "df = df.join(imd, on=\"id\")"
   ]
  },
  {
   "cell_type": "code",
   "execution_count": null,
   "metadata": {},
   "outputs": [],
   "source": [
    "# plot - note geojson data needs to be wgs84\n",
    "fig = px.choropleth_mapbox(\n",
    "        df,\n",
    "        geojson=polys, \n",
    "        featureidkey=\"id\",\n",
    "        locations=\"id\",        \n",
    "        center = {\"lat\": lat, \"lon\": lon},\n",
    "        mapbox_style=\"carto-positron\",\n",
    "        color=\"log_min_tt\",\n",
    "        color_continuous_scale=\"Viridis\",\n",
    "        zoom=12)\n",
    "fig.update_layout(margin={\"r\":0,\"t\":0,\"l\":0,\"b\":0})\n",
    "fig.show()"
   ]
  },
  {
   "cell_type": "code",
   "execution_count": null,
   "metadata": {},
   "outputs": [],
   "source": [
    "# plot - note geojson data needs to be wgs84\n",
    "fig = px.choropleth_mapbox(\n",
    "        df,\n",
    "        geojson=polys, \n",
    "        featureidkey=\"id\",\n",
    "        locations=\"id\",        \n",
    "        center = {\"lat\": lat, \"lon\": lon},\n",
    "        mapbox_style=\"carto-positron\",\n",
    "        color=\"log_min_tt_std\",\n",
    "        color_continuous_scale=\"Viridis\",\n",
    "        zoom=12)\n",
    "fig.update_layout(margin={\"r\":0,\"t\":0,\"l\":0,\"b\":0})\n",
    "fig.show()"
   ]
  },
  {
   "cell_type": "code",
   "execution_count": null,
   "metadata": {},
   "outputs": [],
   "source": [
    "loc = 7601177\n",
    "idx = loc_idx[loc]\n",
    "min_tt_std[idx]"
   ]
  },
  {
   "cell_type": "markdown",
   "metadata": {},
   "source": [
    "### Compared with deprivation"
   ]
  },
  {
   "cell_type": "code",
   "execution_count": null,
   "metadata": {},
   "outputs": [],
   "source": [
    "df.columns"
   ]
  },
  {
   "cell_type": "code",
   "execution_count": null,
   "metadata": {},
   "outputs": [],
   "source": [
    "# does accessibility to nearest clinic predict IMD Health Index?\n",
    "\n",
    "x = \"log_min_tt\"\n",
    "xlabel = \"Travel time to nearest clinic\"\n",
    "y = \"Health\"\n",
    "ylabel = f\"{y} Index\"\n",
    "\n",
    "plt.figure(figsize=(10, 10))\n",
    "plt.scatter(df[x], df[y])\n",
    "plt.xlabel(xlabel)\n",
    "plt.ylabel(ylabel)"
   ]
  },
  {
   "cell_type": "code",
   "execution_count": null,
   "metadata": {
    "scrolled": true
   },
   "outputs": [],
   "source": [
    "# loop through them all\n",
    "Y = ['Census18_P', 'IMD18', 'Employment', 'Income', 'Crime', 'Housing', 'Health', 'Education', 'Access']\n",
    "x = \"log_min_tt\"\n",
    "\n",
    "for y in Y:        \n",
    "    plt.figure(figsize=(10, 10))\n",
    "    plt.scatter(df[x], df[y])\n",
    "    plt.xlabel(x)\n",
    "    plt.ylabel(y)        "
   ]
  },
  {
   "cell_type": "code",
   "execution_count": null,
   "metadata": {},
   "outputs": [],
   "source": [
    "# rename id column and save\n",
    "df.rename(columns={\"id\":\"DZ2018\"}).to_csv(\"imd-with-travel-time.csv\", index=False)"
   ]
  },
  {
   "cell_type": "code",
   "execution_count": null,
   "metadata": {},
   "outputs": [],
   "source": [
    "# join with vdr\n",
    "df_vdr = df.join(vdr, on=\"id\")\n",
    "df_vdr.head()"
   ]
  },
  {
   "cell_type": "code",
   "execution_count": null,
   "metadata": {},
   "outputs": [],
   "source": [
    "# select ethnicity and age combo\n",
    "df_vdr[(df_vdr.mpoMaoriPacific == \"MaoriPacific\") & (df_vdr.ageband == \"20-44\")].head()"
   ]
  },
  {
   "cell_type": "code",
   "execution_count": null,
   "metadata": {},
   "outputs": [],
   "source": [
    "x = \"log_min_tt\"\n",
    "\n",
    "plt.figure(figsize=(10, 10))\n",
    "for eth in [\"MaoriPacific\"]:\n",
    "    for ageband in [\"20-44\", \"45-64\", \"65+\"]:\n",
    "        sample = df_vdr[(df_vdr.mpoMaoriPacific == eth) & (df_vdr.ageband == ageband)].dropna()        \n",
    "\n",
    "        plt.scatter(sample[x], 100 * sample[\"count_vdr\"]/sample[\"pop\"], label=f\"{eth}, {ageband}\", alpha=0.5)\n",
    "        plt.xlabel(\"travel time (log10 minutes) to nearest clinic\")\n",
    "        plt.ylabel(\"vdr as % of pop\")  \n",
    "        plt.ylim(0, 100)\n",
    "        \n",
    "plt.title(f\"{eth} VDR vs travel time\")\n",
    "plt.legend()"
   ]
  },
  {
   "cell_type": "code",
   "execution_count": null,
   "metadata": {},
   "outputs": [],
   "source": [
    "x = \"log_min_tt\"\n",
    "\n",
    "plt.figure(figsize=(10, 10))\n",
    "for eth in [\"nMnP\"]:\n",
    "    for ageband in [\"20-44\", \"45-64\", \"65+\"]:\n",
    "        sample = df_vdr[(df_vdr.mpoMaoriPacific == eth) & (df_vdr.ageband == ageband)].dropna()        \n",
    "\n",
    "        plt.scatter(sample[x], 100 * sample[\"count_vdr\"]/sample[\"pop\"], label=f\"{eth}, {ageband}\", alpha=0.5)\n",
    "        plt.xlabel(\"travel time (log10 minutes) to nearest clinic\")\n",
    "        plt.ylabel(\"vdr as % of pop\")  \n",
    "        plt.ylim(0, 100)\n",
    "        \n",
    "plt.title(f\"{eth} VDR vs travel time\")\n",
    "plt.legend()"
   ]
  },
  {
   "cell_type": "code",
   "execution_count": null,
   "metadata": {},
   "outputs": [],
   "source": [
    "# maps\n",
    "\n",
    "eth = \"MaoriPacific\"\n",
    "#eth = \"nMnP\"\n",
    "ageband = \"45-64\"\n",
    "print(f\"VDR as % of pop. for {eth}, aged {ageband}\")\n",
    "      \n",
    "sample = df_vdr[(df_vdr.mpoMaoriPacific == eth) & (df_vdr.ageband == ageband)].dropna()\n",
    "sample[\"vdr_perc\"] = 100 * sample[\"count_vdr\"] / sample[\"pop\"]\n",
    "\n",
    "# plot - note geojson data needs to be wgs84\n",
    "fig = px.choropleth_mapbox(\n",
    "        sample,\n",
    "        geojson=polys, \n",
    "        featureidkey=\"id\",\n",
    "        locations=\"id\",        \n",
    "        center = {\"lat\": lat, \"lon\": lon},\n",
    "        mapbox_style=\"carto-positron\",\n",
    "        color=\"vdr_perc\",\n",
    "        color_continuous_scale=\"Viridis\",\n",
    "        zoom=12)\n",
    "fig.update_layout(margin={\"r\":0,\"t\":0,\"l\":0,\"b\":0})\n",
    "fig.show()"
   ]
  },
  {
   "cell_type": "code",
   "execution_count": null,
   "metadata": {},
   "outputs": [],
   "source": [
    "np.unique(df.id.values).shape[0]"
   ]
  },
  {
   "cell_type": "code",
   "execution_count": null,
   "metadata": {},
   "outputs": [],
   "source": [
    "np.unique(df_vdr.dropna().id.values).shape[0]"
   ]
  },
  {
   "cell_type": "code",
   "execution_count": null,
   "metadata": {},
   "outputs": [],
   "source": []
  }
 ],
 "metadata": {
  "kernelspec": {
   "display_name": "Python 3",
   "language": "python",
   "name": "python3"
  },
  "language_info": {
   "codemirror_mode": {
    "name": "ipython",
    "version": 3
   },
   "file_extension": ".py",
   "mimetype": "text/x-python",
   "name": "python",
   "nbconvert_exporter": "python",
   "pygments_lexer": "ipython3",
   "version": "3.7.7"
  }
 },
 "nbformat": 4,
 "nbformat_minor": 4
}
